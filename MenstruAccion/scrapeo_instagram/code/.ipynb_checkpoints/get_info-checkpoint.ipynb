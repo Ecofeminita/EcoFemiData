{
 "cells": [
  {
   "cell_type": "markdown",
   "metadata": {},
   "source": [
    "coding: utf-8\n",
    "\n",
    "Created on Tue Jun  9 12:53:43 2020\n",
    "\n",
    "@author: perla"
   ]
  },
  {
   "cell_type": "code",
   "execution_count": 1,
   "metadata": {},
   "outputs": [],
   "source": [
    "from selenium import webdriver\n",
    "\n",
    "#from selenium.webdriver.chrome.options import Options\n",
    "from selenium.webdriver.firefox.options import Options\n",
    "\n",
    "import pandas as pd\n",
    "import urllib.request\n",
    "import datetime\n",
    "import time"
   ]
  },
  {
   "cell_type": "code",
   "execution_count": 2,
   "metadata": {},
   "outputs": [],
   "source": [
    "PATH_FIREFOX_PROFILE = \"/home/natsumi_shokida/.mozilla/firefox/\"\n",
    "PATH_FIREFOX_DRIVER = \"/usr/bin/geckodriver\"\n",
    "\n",
    "# PATH_CHROME_PROFILE = \"C:/Users/perla/AppData/Local/Google/Chrome/User Data\"\n",
    "# PATH_CHROME_DRIVER = \"C:/Users/perla/Desktop/Webdriver/chromedriver.exe\""
   ]
  },
  {
   "cell_type": "code",
   "execution_count": 3,
   "metadata": {},
   "outputs": [],
   "source": [
    "df1=pd.read_csv(\"../data/Instagram_links2020-06-08-18hs50mins.csv\")\n",
    "df2=pd.read_csv(\"../data/Instagram_links2020-06-08-19hs01mins.csv\")"
   ]
  },
  {
   "cell_type": "code",
   "execution_count": 4,
   "metadata": {},
   "outputs": [],
   "source": [
    "links=df1.append(df2,ignore_index=True)\n",
    "link=links['Links']\n",
    "link = link.unique()"
   ]
  },
  {
   "cell_type": "code",
   "execution_count": 31,
   "metadata": {},
   "outputs": [],
   "source": [
    "browser = webdriver.Firefox(firefox_profile=PATH_FIREFOX_PROFILE)\n",
    "\n",
    "# chrome_options = Options()\n",
    "# chrome_options.add_argument(\"user-data-dir=\"+PATH_CHROME_PROFILE)\n",
    "# browser = webdriver.Chrome(PATH_CHROME_DRIVER,options=chrome_options)"
   ]
  },
  {
   "cell_type": "code",
   "execution_count": 8,
   "metadata": {},
   "outputs": [
    {
     "ename": "KeyboardInterrupt",
     "evalue": "",
     "output_type": "error",
     "traceback": [
      "\u001b[0;31m---------------------------------------------------------------------------\u001b[0m",
      "\u001b[0;31mKeyboardInterrupt\u001b[0m                         Traceback (most recent call last)",
      "\u001b[0;32m<ipython-input-8-ea1c370614ef>\u001b[0m in \u001b[0;36m<module>\u001b[0;34m()\u001b[0m\n\u001b[1;32m      6\u001b[0m \u001b[0;32mfor\u001b[0m \u001b[0mx\u001b[0m \u001b[0;32min\u001b[0m \u001b[0mrange\u001b[0m\u001b[0;34m(\u001b[0m\u001b[0mlen\u001b[0m\u001b[0;34m(\u001b[0m\u001b[0mlink\u001b[0m\u001b[0;34m)\u001b[0m\u001b[0;34m)\u001b[0m\u001b[0;34m:\u001b[0m\u001b[0;34m\u001b[0m\u001b[0;34m\u001b[0m\u001b[0m\n\u001b[1;32m      7\u001b[0m \u001b[0;34m\u001b[0m\u001b[0m\n\u001b[0;32m----> 8\u001b[0;31m     \u001b[0mtime\u001b[0m\u001b[0;34m.\u001b[0m\u001b[0msleep\u001b[0m\u001b[0;34m(\u001b[0m\u001b[0;36m15\u001b[0m\u001b[0;34m)\u001b[0m\u001b[0;34m\u001b[0m\u001b[0;34m\u001b[0m\u001b[0m\n\u001b[0m\u001b[1;32m      9\u001b[0m \u001b[0;34m\u001b[0m\u001b[0m\n\u001b[1;32m     10\u001b[0m     \u001b[0mbrowser\u001b[0m\u001b[0;34m.\u001b[0m\u001b[0mget\u001b[0m\u001b[0;34m(\u001b[0m\u001b[0mlink\u001b[0m\u001b[0;34m[\u001b[0m\u001b[0mx\u001b[0m\u001b[0;34m]\u001b[0m\u001b[0;34m)\u001b[0m\u001b[0;34m\u001b[0m\u001b[0;34m\u001b[0m\u001b[0m\n",
      "\u001b[0;31mKeyboardInterrupt\u001b[0m: "
     ]
    }
   ],
   "source": [
    "\n",
    "data=[]\n",
    "\n",
    "for x in range(len(link)):\n",
    "    \n",
    "    time.sleep(15)\n",
    "    obs = {}\n",
    "\n",
    "    browser.get(link[x])\n",
    "    \n",
    "    obs['link'] = link[x]\n",
    "    \n",
    "    user = browser.find_elements_by_xpath(\"//h2[@class='_6lAjh ']\")\n",
    "    obs['user'] = user[0].text\n",
    "\n",
    "    text=browser.find_elements_by_xpath(\"//h2[@class='_6lAjh ']//following-sibling::span\")\n",
    "    obs['text'] = text[0].text\n",
    "\n",
    "    fecha=browser.find_elements_by_xpath(\"//a[@class='c-Yi7']/time\")\n",
    "    obs['fecha'] = fecha[0].text\n",
    "\n",
    "    img = browser.find_element_by_xpath('//div[@class=\"KL4Bh\"]/img')\n",
    "    \n",
    "    src = img.get_attribute('src')\n",
    "    \n",
    "    # download the image\n",
    "    archive_name=\"../data/img/\"+str(x)+\".jpg\"\n",
    "    obs['archivo_imagen'] = archive_name\n",
    "    \n",
    "    urllib.request.urlretrieve(src, archive_name)\n",
    "    data.append(obs)\n",
    "\n",
    "    if x%50==0:\n",
    "        df=pd.DataFrame(data)\n",
    "\n",
    "        currentDT = datetime.datetime.now()\n",
    "        fecha = currentDT.strftime(\"%Y-%m-%d-%Hhs%Mmins\")\n",
    "        archivo = \"../data/Instagram_data/partial_save\"+str(fecha) + '.csv'\n",
    "        df.to_csv(archivo, index=False) \n",
    "        \n",
    "browser.quit()\n",
    "\n",
    "df=pd.DataFrame(data)\n",
    "\n",
    "currentDT = datetime.datetime.now()\n",
    "fecha = currentDT.strftime(\"%Y-%m-%d-%Hhs%Mmins\")\n",
    "archivo = \"../data/Instagram_data/final_save\"+str(fecha) + '.csv'\n",
    "df.to_csv(archivo, index=False) \n",
    "\n"
   ]
  }
 ],
 "metadata": {
  "kernelspec": {
   "display_name": "Python 3",
   "language": "python",
   "name": "python3"
  },
  "language_info": {
   "codemirror_mode": {
    "name": "ipython",
    "version": 3
   },
   "file_extension": ".py",
   "mimetype": "text/x-python",
   "name": "python",
   "nbconvert_exporter": "python",
   "pygments_lexer": "ipython3",
   "version": "3.7.5"
  }
 },
 "nbformat": 4,
 "nbformat_minor": 2
}
