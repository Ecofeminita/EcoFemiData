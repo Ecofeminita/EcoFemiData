{
 "cells": [
  {
   "cell_type": "code",
   "execution_count": 1,
   "metadata": {},
   "outputs": [
    {
     "data": {
      "text/plain": [
       "'\\nCreated on Tue Jun  9 12:53:43 2020\\n\\n@author: perla\\n'"
      ]
     },
     "execution_count": 1,
     "metadata": {},
     "output_type": "execute_result"
    }
   ],
   "source": [
    "# -*- coding: utf-8 -*-\n",
    "\"\"\"\n",
    "Created on Tue Jun  9 12:53:43 2020\n",
    "\n",
    "@author: perla\n",
    "\"\"\"\n"
   ]
  },
  {
   "cell_type": "code",
   "execution_count": null,
   "metadata": {},
   "outputs": [],
   "source": []
  },
  {
   "cell_type": "code",
   "execution_count": 3,
   "metadata": {},
   "outputs": [],
   "source": [
    "from selenium import webdriver\n",
    "from selenium.webdriver.chrome.options import Options\n",
    "import pandas as pd\n",
    "import urllib.request\n",
    "import datetime\n",
    "import time\n"
   ]
  },
  {
   "cell_type": "code",
   "execution_count": 4,
   "metadata": {},
   "outputs": [],
   "source": [
    "PATH_CHROME_PROFILE = \"C:/Users/perla/AppData/Local/Google/Chrome/User Data\"\n",
    "PATH_CHROME_DRIVER = \"C:/Users/perla/Desktop/Webdriver/chromedriver.exe\"\n"
   ]
  },
  {
   "cell_type": "code",
   "execution_count": 5,
   "metadata": {},
   "outputs": [],
   "source": [
    "df1=pd.read_csv(\"../data/Instagram_links2020-06-08-18hs50mins.csv\")\n",
    "df2=pd.read_csv(\"../data/Instagram_links2020-06-08-19hs01mins.csv\")\n"
   ]
  },
  {
   "cell_type": "code",
   "execution_count": null,
   "metadata": {},
   "outputs": [],
   "source": [
    "\n",
    "\n",
    "\n",
    "\n",
    "links=df1+df2\n",
    "\n",
    "link=links['Links']\n",
    "\n",
    "chrome_options = Options()\n",
    "chrome_options.add_argument(\"user-data-dir=\"+PATH_CHROME_PROFILE)\n",
    "browser = webdriver.Chrome(PATH_CHROME_DRIVER,options=chrome_options)\n",
    "\n",
    "users=[]\n",
    "texts=[]\n",
    "date=[]\n",
    "data=[]\n",
    "\n",
    "for x in range(len(link)):\n",
    "    \n",
    "    time.sleep(15)\n",
    "\n",
    "    browser.get(link[x])\n",
    "    \n",
    "    user=browser.find_elements_by_xpath(\"//h2[@class='_6lAjh ']\")\n",
    "    \n",
    "    for u in user: \n",
    "        users.append(u.text)\n",
    "        \n",
    "    text=browser.find_elements_by_xpath(\"//h2[@class='_6lAjh ']//following-sibling::span\")\n",
    "    \n",
    "    for t in text:\n",
    "        texts.append(t.text)\n",
    "        \n",
    "    fecha=browser.find_elements_by_xpath(\"//a[@class='c-Yi7']/time\")\n",
    "    \n",
    "    for f in fecha:\n",
    "        date.append(f.text)\n",
    "        \n",
    "    img = browser.find_element_by_xpath('//div[@class=\"KL4Bh\"]/img')\n",
    "    \n",
    "    src = img.get_attribute('src')\n",
    "    \n",
    "    # download the image\n",
    "    archive_name=\"../data/img/\"+str(x)+\".png\"\n",
    "    \n",
    "    urllib.request.urlretrieve(src, archive_name)\n",
    "    \n",
    "    data.append({\"Link\":link,\"User\":users,\"Text\":texts,\"Date\":date})\n",
    "    \n",
    "browser.quit()\n",
    "\n",
    "data=pd.DataFrame(data)\n",
    "\n",
    "currentDT = datetime.datetime.now()\n",
    "fecha = currentDT.strftime(\"%Y-%m-%d-%Hhs%Mmins\")\n",
    "archivo = \"../data/Instagram_data\"+str(fecha) + '.csv'\n",
    "data.to_csv(archivo, index=False)\n",
    "\n"
   ]
  }
 ],
 "metadata": {
  "kernelspec": {
   "display_name": "Python 3",
   "language": "python",
   "name": "python3"
  },
  "language_info": {
   "codemirror_mode": {
    "name": "ipython",
    "version": 3
   },
   "file_extension": ".py",
   "mimetype": "text/x-python",
   "name": "python",
   "nbconvert_exporter": "python",
   "pygments_lexer": "ipython3",
   "version": "3.7.5"
  }
 },
 "nbformat": 4,
 "nbformat_minor": 2
}
